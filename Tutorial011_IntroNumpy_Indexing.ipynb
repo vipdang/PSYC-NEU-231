{
 "cells": [
  {
   "cell_type": "markdown",
   "metadata": {},
   "source": [
    "# Indexing and slicing and iterating in NumPy"
   ]
  },
  {
   "cell_type": "code",
   "execution_count": 1,
   "metadata": {},
   "outputs": [],
   "source": [
    "# import numpy\n",
    "import numpy as np"
   ]
  },
  {
   "cell_type": "code",
   "execution_count": 3,
   "metadata": {},
   "outputs": [
    {
     "name": "stdout",
     "output_type": "stream",
     "text": [
      "[0. 1. 2. 3. 4. 5. 6. 7. 8. 9.]\n",
      "[100. 100. 100.]\n",
      "[  0. 100.   4.   6.]\n",
      "[  9.   8.   7.   6.   5.   4. 100. 100. 100.   0.]\n",
      "0.0\n",
      "300.0\n",
      "300.0\n",
      "300.0\n",
      "12.0\n",
      "15.0\n",
      "18.0\n",
      "21.0\n",
      "24.0\n",
      "27.0\n"
     ]
    }
   ],
   "source": [
    "# create a 1d array\n",
    "x = np.linspace(0,9,10)\n",
    "print(x)\n",
    "x[1]                     # just the second entry, remember 0 based indexing\n",
    "\n",
    "# specific start and stop points (exclusive)\n",
    "x[0:2]                   # the first and second entries in the array, so N>=0 and N<2 (note the < upper bound - not inclusive)\n",
    "\n",
    "# assign the 2nd - 4th element to 100 (index 1,2,3)\n",
    "x[1:4] = 100               \n",
    "print(x[1:4])\n",
    "\n",
    "# start, stop, step interval\n",
    "print(x[0:8:2])\n",
    "\n",
    "# reverse x\n",
    "print(x[::-1])\n",
    "\n",
    "# iterate over all elements in x\n",
    "for i in x:\n",
    "    print(i*3)    # then i takes the value of each element in x, go through every element and mult by 3"
   ]
  },
  {
   "cell_type": "markdown",
   "metadata": {},
   "source": [
    "## multidimentional array indexing, slicing etc"
   ]
  },
  {
   "cell_type": "code",
   "execution_count": 18,
   "metadata": {},
   "outputs": [
    {
     "name": "stdout",
     "output_type": "stream",
     "text": [
      "[[ 4.  9.  7.  8.  9.]\n",
      " [ 9.  9.  1.  1.  1.]\n",
      " [ 5.  7.  2.  9.  6.]\n",
      " [ 7.  2.  3.  6.  4.]\n",
      " [ 5.  8.  4.  6.  7.]\n",
      " [ 4.  7.  5.  4.  8.]\n",
      " [ 6.  5.  8.  4.  2.]\n",
      " [10.  9.  5. 10.  6.]\n",
      " [ 4.  1.  7. 10.  7.]\n",
      " [ 5.  2.  9.  7. 10.]]\n",
      "last row:  [ 5.  2.  9.  7. 10.]\n",
      "last column:  [ 9.  1.  6.  4.  7.  8.  2.  6.  7. 10.]\n",
      "last entry:  10.0\n",
      "[4. 9. 7. 8. 9.]\n",
      "[9. 9. 1. 1. 1.]\n",
      "[5. 7. 2. 9. 6.]\n",
      "[7. 2. 3. 6. 4.]\n",
      "[5. 8. 4. 6. 7.]\n",
      "[4. 7. 5. 4. 8.]\n",
      "[6. 5. 8. 4. 2.]\n",
      "[10.  9.  5. 10.  6.]\n",
      "[ 4.  1.  7. 10.  7.]\n",
      "[ 5.  2.  9.  7. 10.]\n",
      "4.0\n",
      "9.0\n",
      "7.0\n",
      "8.0\n",
      "9.0\n",
      "9.0\n",
      "9.0\n",
      "1.0\n",
      "1.0\n",
      "1.0\n",
      "5.0\n",
      "7.0\n",
      "2.0\n",
      "9.0\n",
      "6.0\n",
      "7.0\n",
      "2.0\n",
      "3.0\n",
      "6.0\n",
      "4.0\n",
      "5.0\n",
      "8.0\n",
      "4.0\n",
      "6.0\n",
      "7.0\n",
      "4.0\n",
      "7.0\n",
      "5.0\n",
      "4.0\n",
      "8.0\n",
      "6.0\n",
      "5.0\n",
      "8.0\n",
      "4.0\n",
      "2.0\n",
      "10.0\n",
      "9.0\n",
      "5.0\n",
      "10.0\n",
      "6.0\n",
      "4.0\n",
      "1.0\n",
      "7.0\n",
      "10.0\n",
      "7.0\n",
      "5.0\n",
      "2.0\n",
      "9.0\n",
      "7.0\n",
      "10.0\n"
     ]
    }
   ],
   "source": [
    "x = np.round(np.random.rand(10,5)*10)   # generate a matrix of uniformly distributed random numbers over 0:10\n",
    "print(x)\n",
    "\n",
    "x[0,0]     # first row, first column bc 0 based counting\n",
    "x[2,3]     # third row, 4th column\n",
    "\n",
    "x[:, 3]    # all entries in the 4th column \n",
    "x[3, :]    # all entries in the 4th row\n",
    "x[0:2, 4]  # first two entries of the 5th column\n",
    "x[6, 2:4]  # 7th row, 3rd and 4th entries. \n",
    "\n",
    "x[6]       # if not all dims specified then missing values are considered complete slices\n",
    "x[6,]      # these three ways of writing all do the same thing...\n",
    "x[6,:]\n",
    "\n",
    "# tricks...\n",
    "print('last row: ', x[-1,:])     # last row\n",
    "print('last column: ', x[:,-1])  # last column\n",
    "print('last entry: ', x[-1,-1])  # last value\n",
    "\n",
    "# iterating goes over the first dim (rows); iterate over a matrix\n",
    "for r in x:\n",
    "     print(r)\n",
    "        \n",
    "# can also iterate over all entries in the array using 'flat'\n",
    "# will proceed along 1st row, then to 2nd row, etc. \n",
    "for a in x.flat:\n",
    "    print(a)"
   ]
  },
  {
   "cell_type": "markdown",
   "metadata": {},
   "source": [
    "## pull out subset of rows and columns"
   ]
  },
  {
   "cell_type": "code",
   "execution_count": 7,
   "metadata": {},
   "outputs": [
    {
     "name": "stdout",
     "output_type": "stream",
     "text": [
      "[[0.10051985 0.86246093 0.25721147]\n",
      " [0.52939855 0.91485333 0.2047236 ]\n",
      " [0.80290265 0.75090777 0.60950522]\n",
      " [0.95693181 0.76118708 0.83896274]]\n",
      "\n",
      " [[0.10051985 0.86246093 0.25721147]\n",
      " [0.52939855 0.91485333 0.2047236 ]]\n",
      "\n",
      " [[0.80290265 0.75090777 0.60950522]\n",
      " [0.95693181 0.76118708 0.83896274]]\n",
      "\n",
      " [0.10051985 0.52939855]\n",
      "\n",
      " [[0.75090777 0.60950522]\n",
      " [0.76118708 0.83896274]]\n"
     ]
    }
   ],
   "source": [
    "# generate a matrix of random numbers over 0-1\n",
    "x = np.random.rand(4,3) \n",
    "print(x)\n",
    "\n",
    "# first two rows - note that you don't have to specify the 2nd dim - and note that \n",
    "# '2' here means rows 0 and 1 (not 0 through 2!)\n",
    "y = x[:2] \n",
    "print('\\n', y)\n",
    "\n",
    "# can also take the last two rows...in the same manner...in this case rows 3 and 4\n",
    "y = x[2:] \n",
    "print('\\n', y)\n",
    "\n",
    "# first two rows, 1st column\n",
    "y = x[:2,0] \n",
    "print('\\n', y)\n",
    "\n",
    "# rows 3 - end, columns 2 - end\n",
    "y = x[2:,1:]\n",
    "print('\\n', y)"
   ]
  },
  {
   "cell_type": "markdown",
   "metadata": {},
   "source": [
    "<div class=\"alert alert-info\">\n",
    "important - slicing an array creates a view of it! if you change the view, you also will change the original data!\n",
    "</div>"
   ]
  },
  {
   "cell_type": "code",
   "execution_count": 8,
   "metadata": {},
   "outputs": [
    {
     "name": "stdout",
     "output_type": "stream",
     "text": [
      "(4, 3)\n",
      "[[100. 100. 100.]\n",
      " [100. 100. 100.]\n",
      " [100. 100. 100.]\n",
      " [100. 100. 100.]]\n"
     ]
    }
   ],
   "source": [
    "z = x[:,] #z is a view of x, so if you change data in z, you are also changing it in x\n",
    "print(z.shape)\n",
    "\n",
    "# change all values in z using [:]\n",
    "z[:]=100     # so if you change data in z it will also change in x\n",
    "\n",
    "print(x)"
   ]
  },
  {
   "cell_type": "markdown",
   "metadata": {},
   "source": [
    "## Fancy indexing...using arrays to index arrays - used all the time in data analysis..."
   ]
  },
  {
   "cell_type": "markdown",
   "metadata": {},
   "source": [
    "<div class=\"alert alert-info\">\n",
    "fancy indexing always makes a COPY of the data (unlike slicing which creates a view)!!!\n",
    "</div>"
   ]
  },
  {
   "cell_type": "code",
   "execution_count": 22,
   "metadata": {},
   "outputs": [
    {
     "name": "stdout",
     "output_type": "stream",
     "text": [
      "[[0.04642286 0.37668279 0.00105533 0.00908313]\n",
      " [0.45754245 0.35047791 0.89388063 0.62333764]\n",
      " [0.69005657 0.64736177 0.01317135 0.6844905 ]]\n",
      "\n",
      " x indexed at tuple y:  0.6844905035840817\n"
     ]
    }
   ],
   "source": [
    "# define an array\n",
    "x = np.random.rand(3,4)\n",
    "\n",
    "# index array - can be a tuple\n",
    "y = (2,3)\n",
    "\n",
    "# index\n",
    "print(x)\n",
    "print('\\n x indexed at tuple y: ', x[y])"
   ]
  },
  {
   "cell_type": "code",
   "execution_count": 23,
   "metadata": {},
   "outputs": [
    {
     "name": "stdout",
     "output_type": "stream",
     "text": [
      "[[0.04642286 0.37668279 0.00105533 0.00908313]\n",
      " [0.45754245 0.35047791 0.89388063 0.62333764]\n",
      " [0.69005657 0.64736177 0.01317135 0.6844905 ]]\n"
     ]
    },
    {
     "data": {
      "text/plain": [
       "array([[0.37668279, 0.00105533, 0.04642286],\n",
       "       [0.35047791, 0.89388063, 0.45754245],\n",
       "       [0.64736177, 0.01317135, 0.69005657]])"
      ]
     },
     "execution_count": 23,
     "metadata": {},
     "output_type": "execute_result"
    }
   ],
   "source": [
    "# can use fancy indexing to extract elements in a particular order\n",
    "print(x)\n",
    "\n",
    "# this will extract the 3rd row, then the 2nd row, then the first row\n",
    "x[[2,1,0]]\n",
    "\n",
    "# and this will extract all rows from the 2nd, 3rd and then 1st column. \n",
    "x[:,[1,2,0]]"
   ]
  },
  {
   "cell_type": "code",
   "execution_count": 24,
   "metadata": {},
   "outputs": [
    {
     "name": "stdout",
     "output_type": "stream",
     "text": [
      "[[0.04642286 0.37668279 0.00105533 0.00908313]\n",
      " [0.45754245 0.35047791 0.89388063 0.62333764]\n",
      " [0.69005657 0.64736177 0.01317135 0.6844905 ]]\n"
     ]
    },
    {
     "data": {
      "text/plain": [
       "array([0.35047791, 0.01317135])"
      ]
     },
     "execution_count": 24,
     "metadata": {},
     "output_type": "execute_result"
    }
   ],
   "source": [
    "# or can pass in multiple arrays...will return a 1D array \n",
    "# corresponding to each set of tuples (1,1) and (2,2) in this case\n",
    "# set of coordinates\n",
    "print(x)\n",
    "x[[1,2],[1,2]]"
   ]
  },
  {
   "cell_type": "markdown",
   "metadata": {},
   "source": [
    "<div class=\"alert alert-info\">\n",
    "As opposed to selecting a set of tuples, you can also select a block of indices from a matrix. \n",
    "</div>"
   ]
  },
  {
   "cell_type": "code",
   "execution_count": 44,
   "metadata": {},
   "outputs": [
    {
     "name": "stdout",
     "output_type": "stream",
     "text": [
      "[[0.04642286 0.37668279 0.00105533 0.00908313]\n",
      " [0.45754245 0.35047791 0.89388063 0.62333764]\n",
      " [0.69005657 0.64736177 0.01317135 0.6844905 ]] /n\n",
      "[[0.04642286 0.37668279]\n",
      " [0.45754245 0.35047791]] /n\n",
      "[[0.89388063 0.62333764]\n",
      " [0.01317135 0.6844905 ]]\n"
     ]
    }
   ],
   "source": [
    "# grab the lower right chunk of data. \n",
    "print(x, '/n')\n",
    "\n",
    "print(x[:2,0:2],'/n')\n",
    "print(x[[1,2]][:,[2,3]])  # 2nd term here extracts all rows from columns, first arg says restrict to last two rows. "
   ]
  },
  {
   "cell_type": "code",
   "execution_count": null,
   "metadata": {},
   "outputs": [],
   "source": []
  }
 ],
 "metadata": {
  "kernelspec": {
   "display_name": "Python 3",
   "language": "python",
   "name": "python3"
  },
  "language_info": {
   "codemirror_mode": {
    "name": "ipython",
    "version": 3
   },
   "file_extension": ".py",
   "mimetype": "text/x-python",
   "name": "python",
   "nbconvert_exporter": "python",
   "pygments_lexer": "ipython3",
   "version": "3.6.5"
  }
 },
 "nbformat": 4,
 "nbformat_minor": 2
}
