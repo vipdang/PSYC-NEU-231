{
 "cells": [
  {
   "cell_type": "markdown",
   "metadata": {},
   "source": [
    "# in class exercises for 10.17.2018 (FFT + practice plotting + boolean indexing)\n",
    "\n",
    "[npy file format](https://www.numpy.org/devdocs/reference/generated/numpy.lib.format.html)\n",
    "\n",
    "[npz file format (save several arrays)](https://docs.scipy.org/doc/numpy-1.15.1/reference/generated/numpy.savez.html)\n",
    "\n",
    "[article about advantages of npy/npz format compared to csv and other common formats](https://towardsdatascience.com/why-you-should-start-using-npy-file-more-often-df2a13cc0161)"
   ]
  },
  {
   "cell_type": "markdown",
   "metadata": {},
   "source": [
    "## First import data from eeg_data00.npz"
   ]
  },
  {
   "cell_type": "code",
   "execution_count": 2,
   "metadata": {},
   "outputs": [],
   "source": [
    "# first import the modules that you'll need. \n",
    "import numpy as np\n",
    "import scipy.io as sio\n",
    "import matplotlib.pyplot as plt\n",
    "\n",
    "# also define the default font we'll use for figures. \n",
    "fig_font = {'fontname':'Arial', 'size':'20'}"
   ]
  },
  {
   "cell_type": "markdown",
   "metadata": {},
   "source": [
    "## load eeg_data00.npz...\n",
    "* you should find that it has three arrays: data, tx, and sr (with 'data' a #trials x # timepoints array containing the EEG data, the time of each data acquisition in tx, and the sample rate stored as sr).  "
   ]
  },
  {
   "cell_type": "code",
   "execution_count": 3,
   "metadata": {},
   "outputs": [
    {
     "name": "stdout",
     "output_type": "stream",
     "text": [
      "Shape of the big eeg data set:  (960, 876)\n",
      "Sample rate:  250\n"
     ]
    }
   ],
   "source": [
    "# load the data...\n",
    "eeg = np.load('eeg_data00.npz')\n",
    "\n",
    "# get the different arrays like this...kind of like a structure in matlab. \n",
    "eeg['data']\n",
    "eeg['sr']\n",
    "eeg['tx']\n",
    "\n",
    "# and can query the attributes of the data like this...which will tell us that there 960 trials and 876 timepoints per trial sampled\n",
    "# at 250Hz\n",
    "print('Shape of the big eeg data set: ', eeg['data'].shape)\n",
    "print('Sample rate: ', eeg['sr'])\n",
    "\n",
    "# and if you want to save some typing, especially because we only have a few variables, you reassign the different arrays like this\n",
    "data = eeg['data']\n",
    "sr = eeg['sr']\n",
    "tx = eeg['tx']\n",
    "# now you can just write data instead of eeg['data'] (and can for tx and sr as well...)"
   ]
  },
  {
   "cell_type": "markdown",
   "metadata": {},
   "source": [
    "## First - plot the data! (always do this first). \n",
    "* Compute the mean across all trials and then plot with tx on the xaxis. \n",
    "* Remember - good form is to specify the axis that you want to average over when using np.mean!"
   ]
  },
  {
   "cell_type": "code",
   "execution_count": 6,
   "metadata": {},
   "outputs": [
    {
     "data": {
      "image/png": "[encoded data removed]",
      "text/plain": [
       "<Figure size 432x288 with 1 Axes>"
      ]
     },
     "metadata": {},
     "output_type": "display_data"
    }
   ],
   "source": [
    "# plot the mean of the data\n",
    "mean_data = np.mean(data, axis=0)\n",
    "plt.plot(tx, mean_data, color='r', linewidth = 2)\n",
    "plt.axvline(0, color = 'k', linewidth = 2)\n",
    "plt.axhline(0, color = 'k', linewidth = 2)\n",
    "plt.show()"
   ]
  },
  {
   "cell_type": "markdown",
   "metadata": {},
   "source": [
    "## Now grab the data from time 0 until time 2000 and FFT it! \n",
    "* hint: you can use boolean indexing by selecting the columns from the 'data' matrix that meet: (tx>=0)  & (tx<2000)\n",
    "* while you're at it, go ahead and grab the timepoints corresponding to that interval as well"
   ]
  },
  {
   "cell_type": "code",
   "execution_count": null,
   "metadata": {},
   "outputs": [],
   "source": [
    "seg_data = data[:,(tx>=0)  & (tx<2000)]\n",
    "seg_time = tx[(tx>=0) & (tx<2000)]\n",
    "plt.plot(seg_time, np.mean(seg_data, axis=0))\n",
    "plt.show()"
   ]
  },
  {
   "cell_type": "markdown",
   "metadata": {},
   "source": [
    "## Do the FFT on the data averaged across trials (so first avg, then FFT)"
   ]
  },
  {
   "cell_type": "code",
   "execution_count": null,
   "metadata": {},
   "outputs": [],
   "source": [
    "mean_data = np.mean(seg_data, axis=0)\n",
    "\n",
    "sp = np.fft.rfft(mean_data)                    # compute FFT\n",
    "\n",
    "# compute amplitude\n",
    "amp = (np.abs(sp) / mean_data.size) *2\n",
    "\n",
    "# get freq axis\n",
    "freq = np.fft.rfftfreq(mean_data.size, 1/sr)   # Sample spacing is 2nd arg\n",
    "\n",
    "plt.plot(freq, amp, 'b', linewidth=1)          # plot amplitude (power = np.absolute(sp)**2)\n",
    "\n",
    "plt.legend(['normalized fft'], loc='best', fancybox=1)  \n",
    "plt.xlabel('Frequency', **fig_font)\n",
    "plt.ylabel('Amplitude', **fig_font)\n",
    "plt.show()"
   ]
  },
  {
   "cell_type": "markdown",
   "metadata": {},
   "source": [
    "## Now lets look at a few frequency segments to see what is going on\n",
    "* First plot just the frequencies in between 55 and 65Hz (use boolean indexing)\n",
    "* Then look at the frequencies in between 5 and 20Hz"
   ]
  },
  {
   "cell_type": "code",
   "execution_count": null,
   "metadata": {},
   "outputs": [],
   "source": [
    "# figure out the indices we want to keep...\n",
    "ind = (freq>=55) & (freq<65)\n",
    "\n",
    "plt.plot(freq[ind], amp[ind], 'b', linewidth=1)          # plot amplitude (power = np.absolute(sp)**2)\n",
    "\n",
    "plt.legend(['normalized fft'], loc='best', fancybox=1)  \n",
    "plt.xlabel('Frequency', **fig_font)\n",
    "plt.ylabel('Amplitude', **fig_font)\n",
    "plt.show()"
   ]
  },
  {
   "cell_type": "code",
   "execution_count": null,
   "metadata": {},
   "outputs": [],
   "source": [
    "# figure out the indices we want to keep...this time from 5-20Hz\n",
    "ind = (freq>=5) & (freq<20)\n",
    "\n",
    "plt.plot(freq[ind], amp[ind], 'b', linewidth=1)          # plot amplitude (power = np.absolute(sp)**2)\n",
    "\n",
    "plt.legend(['normalized fft'], loc='best', fancybox=1)  \n",
    "plt.xlabel('Frequency', **fig_font)\n",
    "plt.ylabel('Amplitude', **fig_font)\n",
    "plt.show()"
   ]
  },
  {
   "cell_type": "markdown",
   "metadata": {},
   "source": [
    "## Remember what the above plots look like, and then do something that *seems* just a little different\n",
    "* FFT each trial \n",
    "* Then compute the amplitude on each trial\n",
    "* Then compute the average amplitude across all trials\n",
    "* Then plot like you did above - first over all frequs, then zoom in and plot the 55-65hz window and the 5-20Hz window \n",
    "* To make this work, note that np.fft.rfft can operate on the entire data matrix at once. You should ALWAYS specify the axis that you want the FFT to work over (in this case the time axis, or axis 1). np.fft.rfft will default to the LAST axis if you specify nothing, which in this case is ok but it would totally NOT be ok if your data were transposed\n",
    "* hint: handy to store the shape of the data matrix before you do all this so that you can pass in the number of timepoints to the amplitude normalization function and the freq-axis function. e.g. r,c = data.shape\n",
    "\n",
    "[np.fft.rfft documentation](https://docs.scipy.org/doc/numpy-1.15.1/reference/generated/numpy.fft.rfft.html)"
   ]
  },
  {
   "cell_type": "code",
   "execution_count": null,
   "metadata": {},
   "outputs": [],
   "source": [
    "r,c = seg_data.shape\n",
    "\n",
    "sp = np.fft.rfft(seg_data, axis=1)                    # compute FFT\n",
    "\n",
    "# compute amplitude\n",
    "amp = (np.abs(sp) / c) *2\n",
    "\n",
    "mean_amp = np.mean(amp, axis=0)\n",
    "\n",
    "# get freq axis\n",
    "freq = np.fft.rfftfreq(c, 1/sr)   # Sample spacing is 2nd arg\n",
    "\n",
    "plt.plot(freq, mean_amp, 'b', linewidth=1)          # plot amplitude (power = np.absolute(sp)**2)\n",
    "\n",
    "plt.legend(['normalized fft'], loc='best', fancybox=1)  \n",
    "plt.xlabel('Frequency', **fig_font)\n",
    "plt.ylabel('Amplitude', **fig_font)\n",
    "plt.show()"
   ]
  },
  {
   "cell_type": "code",
   "execution_count": null,
   "metadata": {},
   "outputs": [],
   "source": [
    "# figure out the indices we want to keep...this time from 55-65Hz\n",
    "ind = (freq>=55) & (freq<65)\n",
    "\n",
    "plt.plot(freq[ind], mean_amp[ind], 'b', linewidth=1)          # plot amplitude (power = np.absolute(sp)**2)\n",
    "\n",
    "plt.legend(['normalized fft'], loc='best', fancybox=1)  \n",
    "plt.xlabel('Frequency', **fig_font)\n",
    "plt.ylabel('Amplitude', **fig_font)\n",
    "plt.show()"
   ]
  },
  {
   "cell_type": "code",
   "execution_count": null,
   "metadata": {},
   "outputs": [],
   "source": [
    "# figure out the indices we want to keep...this time from 5-20Hz\n",
    "ind = (freq>=5) & (freq<20)\n",
    "\n",
    "plt.plot(freq[ind], mean_amp[ind], 'b', linewidth=1)          # plot amplitude (power = np.absolute(sp)**2)\n",
    "\n",
    "plt.legend(['normalized fft'], loc='best', fancybox=1)  \n",
    "plt.xlabel('Frequency', **fig_font)\n",
    "plt.ylabel('Amplitude', **fig_font)\n",
    "plt.show()"
   ]
  },
  {
   "cell_type": "markdown",
   "metadata": {},
   "source": [
    "## Now compare the plots you got just now (FFT each trial, then compute amp, then average) with the plots you got when you averaged in time domain first and THEN did the FFT. Why are they different?\n",
    "* hint: think about phase..."
   ]
  },
  {
   "cell_type": "markdown",
   "metadata": {},
   "source": [
    "## Switch to a new data set...load eeg_data01.npz. To make it easy I renamed all the variables in this data set to match the var names in the last data set (data, sr, tx)"
   ]
  },
  {
   "cell_type": "code",
   "execution_count": null,
   "metadata": {},
   "outputs": [],
   "source": [
    "# load the data...\n",
    "eeg = np.load('eeg_data01.npz')\n",
    "\n",
    "# get the different arrays like this...kind of like a structure in matlab. \n",
    "eeg['data']\n",
    "eeg['sr']\n",
    "eeg['tx']\n",
    "\n",
    "# and can query the attributes of the data like this...which will tell us that there 1600 trials and 4102 timepoints per trial sampled\n",
    "# at 1024Hz\n",
    "print('Shape of the big eeg data set: ', eeg['data'].shape)\n",
    "print('Sample rate: ', eeg['sr'])\n",
    "\n",
    "# and if you want to save some typing, especially because we only have a few variables, you reassign the different arrays like this\n",
    "data = eeg['data']\n",
    "sr = eeg['sr']\n",
    "tx = eeg['tx']"
   ]
  },
  {
   "cell_type": "markdown",
   "metadata": {},
   "source": [
    "## Plot the data, just like we did above"
   ]
  },
  {
   "cell_type": "code",
   "execution_count": null,
   "metadata": {},
   "outputs": [],
   "source": [
    "# plot the mean of the data\n",
    "mean_data = np.mean(data, axis=0)\n",
    "plt.plot(tx, mean_data, color='r', linewidth = 2)\n",
    "plt.axvline(0, color = 'k', linewidth = 2)\n",
    "plt.axhline(0, color = 'k', linewidth = 2)\n",
    "plt.show()"
   ]
  },
  {
   "cell_type": "markdown",
   "metadata": {},
   "source": [
    "## Now segment the data from time 0 to time 1753 and plot to make sure it looks right"
   ]
  },
  {
   "cell_type": "code",
   "execution_count": null,
   "metadata": {},
   "outputs": [],
   "source": [
    "ind = (tx>=0) & (tx<1753)\n",
    "seg_data = data[:,ind]\n",
    "plt.plot(tx[ind], np.mean(seg_data, axis=0), color='r', linewidth = 2)\n",
    "plt.axvline(0, color = 'k', linewidth = 2)\n",
    "plt.axhline(0, color = 'k', linewidth = 2)\n",
    "plt.show()"
   ]
  },
  {
   "cell_type": "markdown",
   "metadata": {},
   "source": [
    "## Next:\n",
    "* compute the FFT of the data on each trial\n",
    "* then compute the amp on each trial\n",
    "* then plot the average amplitude over a window from 12Hz to 35Hz"
   ]
  },
  {
   "cell_type": "code",
   "execution_count": null,
   "metadata": {},
   "outputs": [],
   "source": [
    "r,c = seg_data.shape\n",
    "\n",
    "sp = np.fft.rfft(seg_data, axis=1)                    # compute FFT\n",
    "\n",
    "# compute amplitude\n",
    "amp = (np.abs(sp) / c) *2\n",
    "\n",
    "mean_amp = np.mean(amp, axis=0)\n",
    "\n",
    "# get freq axis\n",
    "freq = np.fft.rfftfreq(c, 1/sr)   # Sample spacing is 2nd arg\n",
    "\n",
    "# get our set of indices\n",
    "ind = (freq>=12) & (freq<35)\n",
    "\n",
    "plt.plot(freq[ind], mean_amp[ind], 'b', linewidth=1)          # plot amplitude (power = np.absolute(sp)**2)\n",
    "\n",
    "plt.legend(['normalized fft'], loc='best', fancybox=1)  \n",
    "plt.xlabel('Frequency', **fig_font)\n",
    "plt.ylabel('Amplitude', **fig_font)\n",
    "plt.show()"
   ]
  },
  {
   "cell_type": "markdown",
   "metadata": {},
   "source": [
    "## Not much going on...so now \n",
    "* average the data in the time domain (i.e. avg across all trials)\n",
    "* then FFT, compute amp, then plot over the same window"
   ]
  },
  {
   "cell_type": "code",
   "execution_count": null,
   "metadata": {},
   "outputs": [],
   "source": [
    "mean_data = np.mean(seg_data, axis=0)\n",
    "\n",
    "sp = np.fft.rfft(mean_data)                    # compute FFT\n",
    "\n",
    "# compute amplitude\n",
    "amp = (np.abs(sp) / mean_data.size) *2\n",
    "\n",
    "# get freq axis\n",
    "freq = np.fft.rfftfreq(mean_data.size, 1/sr)   # Sample spacing is 2nd arg\n",
    "\n",
    "# get our set of indices\n",
    "ind = (freq>=12) & (freq<35)\n",
    "\n",
    "plt.plot(freq[ind], amp[ind], 'b', linewidth=1)          # plot amplitude (power = np.absolute(sp)**2)\n",
    "\n",
    "plt.legend(['normalized fft'], loc='best', fancybox=1)  \n",
    "plt.xlabel('Frequency', **fig_font)\n",
    "plt.ylabel('Amplitude', **fig_font)\n",
    "plt.show()"
   ]
  },
  {
   "cell_type": "markdown",
   "metadata": {},
   "source": [
    "## now what do you see? \n",
    "* what can infer about the experiment based on the difference in the amplitude spectrum from the two different methods (FFT all trials, then convert to amp, then average versus Average in time domain, then FFT and then compute amp)"
   ]
  }
 ],
 "metadata": {
  "kernelspec": {
   "display_name": "Python 3",
   "language": "python",
   "name": "python3"
  },
  "language_info": {
   "codemirror_mode": {
    "name": "ipython",
    "version": 3
   },
   "file_extension": ".py",
   "mimetype": "text/x-python",
   "name": "python",
   "nbconvert_exporter": "python",
   "pygments_lexer": "ipython3",
   "version": "3.6.5"
  }
 },
 "nbformat": 4,
 "nbformat_minor": 2
}
