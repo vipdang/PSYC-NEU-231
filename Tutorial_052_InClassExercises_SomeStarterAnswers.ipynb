{
 "cells": [
  {
   "cell_type": "markdown",
   "metadata": {},
   "source": [
    "# In class exercises - Intro to Pandas Series and DataFrames"
   ]
  },
  {
   "cell_type": "markdown",
   "metadata": {},
   "source": [
    "## Import libs"
   ]
  },
  {
   "cell_type": "code",
   "execution_count": 1,
   "metadata": {},
   "outputs": [],
   "source": [
    "import pandas as pd\n",
    "import numpy as np\n",
    "import matplotlib.pyplot as plt\n",
    "\n",
    "# get and store current file path for file i/o later on in tutorial\n",
    "import os\n",
    "cwd = os.getcwd()"
   ]
  },
  {
   "cell_type": "markdown",
   "metadata": {},
   "source": [
    "## First import 'response_time_data.csv' data file\n",
    "* Contains RTs from 800 trials of a simple detection task from each of 20 subjects\n",
    "* Organizing into a DataFrame and then saved out in csv format\n",
    "* The index (row) and column labels are encoded in the csv file, so you'll need to read those in explcitly\n",
    "* Make sure to have a look at the DataFrame - use the df.head() function"
   ]
  },
  {
   "cell_type": "code",
   "execution_count": 2,
   "metadata": {},
   "outputs": [
    {
     "data": {
      "text/html": [
       "<div>\n",
       "<style scoped>\n",
       "    .dataframe tbody tr th:only-of-type {\n",
       "        vertical-align: middle;\n",
       "    }\n",
       "\n",
       "    .dataframe tbody tr th {\n",
       "        vertical-align: top;\n",
       "    }\n",
       "\n",
       "    .dataframe thead th {\n",
       "        text-align: right;\n",
       "    }\n",
       "</style>\n",
       "<table border=\"1\" class=\"dataframe\">\n",
       "  <thead>\n",
       "    <tr style=\"text-align: right;\">\n",
       "      <th></th>\n",
       "      <th>Sub0</th>\n",
       "      <th>Sub1</th>\n",
       "      <th>Sub2</th>\n",
       "      <th>Sub3</th>\n",
       "      <th>Sub4</th>\n",
       "      <th>Sub5</th>\n",
       "      <th>Sub6</th>\n",
       "      <th>Sub7</th>\n",
       "      <th>Sub8</th>\n",
       "      <th>Sub9</th>\n",
       "      <th>Sub10</th>\n",
       "      <th>Sub11</th>\n",
       "      <th>Sub12</th>\n",
       "      <th>Sub13</th>\n",
       "      <th>Sub14</th>\n",
       "      <th>Sub15</th>\n",
       "      <th>Sub16</th>\n",
       "      <th>Sub17</th>\n",
       "      <th>Sub18</th>\n",
       "      <th>Sub19</th>\n",
       "    </tr>\n",
       "  </thead>\n",
       "  <tbody>\n",
       "    <tr>\n",
       "      <th>Tri0</th>\n",
       "      <td>2797.224240</td>\n",
       "      <td>1039.571212</td>\n",
       "      <td>4045.345952</td>\n",
       "      <td>3530.934210</td>\n",
       "      <td>2410.276348</td>\n",
       "      <td>6541.494156</td>\n",
       "      <td>1977.919842</td>\n",
       "      <td>2343.555594</td>\n",
       "      <td>143.695964</td>\n",
       "      <td>8147.939691</td>\n",
       "      <td>5183.942423</td>\n",
       "      <td>4548.240971</td>\n",
       "      <td>2076.921296</td>\n",
       "      <td>4230.548795</td>\n",
       "      <td>4134.589984</td>\n",
       "      <td>2067.132295</td>\n",
       "      <td>4087.049471</td>\n",
       "      <td>2704.327437</td>\n",
       "      <td>2790.476384</td>\n",
       "      <td>5141.106292</td>\n",
       "    </tr>\n",
       "    <tr>\n",
       "      <th>Tri1</th>\n",
       "      <td>786.895089</td>\n",
       "      <td>3076.223066</td>\n",
       "      <td>1033.310418</td>\n",
       "      <td>3758.043454</td>\n",
       "      <td>4000.805778</td>\n",
       "      <td>2756.802996</td>\n",
       "      <td>2918.768116</td>\n",
       "      <td>2613.934992</td>\n",
       "      <td>2655.684434</td>\n",
       "      <td>7410.337807</td>\n",
       "      <td>3182.903975</td>\n",
       "      <td>4324.103096</td>\n",
       "      <td>1843.506277</td>\n",
       "      <td>1338.453235</td>\n",
       "      <td>2693.772203</td>\n",
       "      <td>7239.094853</td>\n",
       "      <td>1320.715043</td>\n",
       "      <td>4449.372349</td>\n",
       "      <td>1085.884483</td>\n",
       "      <td>3556.231671</td>\n",
       "    </tr>\n",
       "    <tr>\n",
       "      <th>Tri2</th>\n",
       "      <td>3516.902396</td>\n",
       "      <td>4632.818016</td>\n",
       "      <td>4874.066155</td>\n",
       "      <td>3031.377402</td>\n",
       "      <td>2485.677228</td>\n",
       "      <td>4929.841314</td>\n",
       "      <td>435.950399</td>\n",
       "      <td>3059.241733</td>\n",
       "      <td>2923.325600</td>\n",
       "      <td>3530.389021</td>\n",
       "      <td>3002.555229</td>\n",
       "      <td>7537.781867</td>\n",
       "      <td>1989.249165</td>\n",
       "      <td>4513.510928</td>\n",
       "      <td>4473.733040</td>\n",
       "      <td>7422.364759</td>\n",
       "      <td>3338.164717</td>\n",
       "      <td>4840.676786</td>\n",
       "      <td>2721.343095</td>\n",
       "      <td>1972.689272</td>\n",
       "    </tr>\n",
       "    <tr>\n",
       "      <th>Tri3</th>\n",
       "      <td>333.881830</td>\n",
       "      <td>104.448476</td>\n",
       "      <td>2304.093856</td>\n",
       "      <td>586.098266</td>\n",
       "      <td>4575.178155</td>\n",
       "      <td>2365.682721</td>\n",
       "      <td>1285.101296</td>\n",
       "      <td>5050.566343</td>\n",
       "      <td>2446.870606</td>\n",
       "      <td>5096.855057</td>\n",
       "      <td>1047.603006</td>\n",
       "      <td>5431.187785</td>\n",
       "      <td>2879.554454</td>\n",
       "      <td>311.319060</td>\n",
       "      <td>2814.385809</td>\n",
       "      <td>3396.500194</td>\n",
       "      <td>1324.780081</td>\n",
       "      <td>1518.991979</td>\n",
       "      <td>1676.395223</td>\n",
       "      <td>2051.924695</td>\n",
       "    </tr>\n",
       "    <tr>\n",
       "      <th>Tri4</th>\n",
       "      <td>6790.330061</td>\n",
       "      <td>2629.751046</td>\n",
       "      <td>3148.222058</td>\n",
       "      <td>1894.867975</td>\n",
       "      <td>2274.057485</td>\n",
       "      <td>8186.457041</td>\n",
       "      <td>1195.253881</td>\n",
       "      <td>3747.385847</td>\n",
       "      <td>1456.694541</td>\n",
       "      <td>3437.159878</td>\n",
       "      <td>6745.578676</td>\n",
       "      <td>4101.871682</td>\n",
       "      <td>1944.773775</td>\n",
       "      <td>1571.942134</td>\n",
       "      <td>3186.806328</td>\n",
       "      <td>6588.562378</td>\n",
       "      <td>2866.277989</td>\n",
       "      <td>2079.880840</td>\n",
       "      <td>1086.063139</td>\n",
       "      <td>7051.740732</td>\n",
       "    </tr>\n",
       "  </tbody>\n",
       "</table>\n",
       "</div>"
      ],
      "text/plain": [
       "             Sub0         Sub1         Sub2         Sub3         Sub4  \\\n",
       "Tri0  2797.224240  1039.571212  4045.345952  3530.934210  2410.276348   \n",
       "Tri1   786.895089  3076.223066  1033.310418  3758.043454  4000.805778   \n",
       "Tri2  3516.902396  4632.818016  4874.066155  3031.377402  2485.677228   \n",
       "Tri3   333.881830   104.448476  2304.093856   586.098266  4575.178155   \n",
       "Tri4  6790.330061  2629.751046  3148.222058  1894.867975  2274.057485   \n",
       "\n",
       "             Sub5         Sub6         Sub7         Sub8         Sub9  \\\n",
       "Tri0  6541.494156  1977.919842  2343.555594   143.695964  8147.939691   \n",
       "Tri1  2756.802996  2918.768116  2613.934992  2655.684434  7410.337807   \n",
       "Tri2  4929.841314   435.950399  3059.241733  2923.325600  3530.389021   \n",
       "Tri3  2365.682721  1285.101296  5050.566343  2446.870606  5096.855057   \n",
       "Tri4  8186.457041  1195.253881  3747.385847  1456.694541  3437.159878   \n",
       "\n",
       "            Sub10        Sub11        Sub12        Sub13        Sub14  \\\n",
       "Tri0  5183.942423  4548.240971  2076.921296  4230.548795  4134.589984   \n",
       "Tri1  3182.903975  4324.103096  1843.506277  1338.453235  2693.772203   \n",
       "Tri2  3002.555229  7537.781867  1989.249165  4513.510928  4473.733040   \n",
       "Tri3  1047.603006  5431.187785  2879.554454   311.319060  2814.385809   \n",
       "Tri4  6745.578676  4101.871682  1944.773775  1571.942134  3186.806328   \n",
       "\n",
       "            Sub15        Sub16        Sub17        Sub18        Sub19  \n",
       "Tri0  2067.132295  4087.049471  2704.327437  2790.476384  5141.106292  \n",
       "Tri1  7239.094853  1320.715043  4449.372349  1085.884483  3556.231671  \n",
       "Tri2  7422.364759  3338.164717  4840.676786  2721.343095  1972.689272  \n",
       "Tri3  3396.500194  1324.780081  1518.991979  1676.395223  2051.924695  \n",
       "Tri4  6588.562378  2866.277989  2079.880840  1086.063139  7051.740732  "
      ]
     },
     "execution_count": 2,
     "metadata": {},
     "output_type": "execute_result"
    }
   ],
   "source": [
    "file_name = cwd + '/response_time_data.csv'\n",
    "\n",
    "df = pd.read_csv(file_name, index_col=0, header=0)\n",
    "df.head()"
   ]
  },
  {
   "cell_type": "markdown",
   "metadata": {},
   "source": [
    "## Now have a look at the data using built in Padas functionality\n",
    "* Check out the max/min of each row, standard deviation, percentiles, etc."
   ]
  },
  {
   "cell_type": "code",
   "execution_count": 3,
   "metadata": {},
   "outputs": [
    {
     "data": {
      "text/plain": [
       "3492.61432305078"
      ]
     },
     "execution_count": 3,
     "metadata": {},
     "output_type": "execute_result"
    }
   ],
   "source": [
    "d = df.describe()\n",
    "d['Sub0'][1]\n",
    "# etc..."
   ]
  },
  {
   "cell_type": "markdown",
   "metadata": {},
   "source": [
    "## Are there missing values (NaNs) in the data?"
   ]
  },
  {
   "cell_type": "code",
   "execution_count": 4,
   "metadata": {},
   "outputs": [
    {
     "data": {
      "text/plain": [
       "Sub0      0\n",
       "Sub1      0\n",
       "Sub2      0\n",
       "Sub3      0\n",
       "Sub4      4\n",
       "Sub5      0\n",
       "Sub6      0\n",
       "Sub7      1\n",
       "Sub8      0\n",
       "Sub9      2\n",
       "Sub10     0\n",
       "Sub11    11\n",
       "Sub12     0\n",
       "Sub13     3\n",
       "Sub14     3\n",
       "Sub15     0\n",
       "Sub16     0\n",
       "Sub17    15\n",
       "Sub18     7\n",
       "Sub19     0\n",
       "dtype: int64"
      ]
     },
     "execution_count": 4,
     "metadata": {},
     "output_type": "execute_result"
    }
   ],
   "source": [
    "np.sum(np.isnan(df), axis=0)"
   ]
  },
  {
   "cell_type": "markdown",
   "metadata": {},
   "source": [
    "## What about outliers? Lets define outliers here as > 2 * std away from the mean for each subject\n",
    "* After you've found the outliers for each subject, replace those values with a np.nan (NaN)"
   ]
  },
  {
   "cell_type": "code",
   "execution_count": null,
   "metadata": {},
   "outputs": [],
   "source": [
    "d = df.describe()\n",
    "\n",
    "# then use the std and mean fields to define the outlier limit for each subject\n",
    "# then replace with NaNs"
   ]
  },
  {
   "cell_type": "markdown",
   "metadata": {},
   "source": [
    "## After you've found the outliers and replaced with NaNs for each subject, check out this function:\n",
    "[pandas.DataFrame.interpolate](https://pandas.pydata.org/pandas-docs/stable/generated/pandas.DataFrame.interpolate.html#pandas.DataFrame.interpolate)\n",
    "\n",
    "* Use this function to interpolate the missing values for each subject (do not interpolate across subjects!)\n",
    "* Just use linear interpolation..."
   ]
  },
  {
   "cell_type": "code",
   "execution_count": null,
   "metadata": {},
   "outputs": [],
   "source": [
    "df.interpolate"
   ]
  },
  {
   "cell_type": "markdown",
   "metadata": {},
   "source": [
    "## You can explore the \"Missing Values\" page for Pandas to figure out other ways of filling in missing values and outliers\n",
    "\n",
    "[page is here](https://pandas.pydata.org/pandas-docs/stable/missing_data.html#missing-data)\n",
    "\n",
    "* Figure out how to replace the outliers with the mean of each subject"
   ]
  },
  {
   "cell_type": "code",
   "execution_count": null,
   "metadata": {},
   "outputs": [],
   "source": []
  },
  {
   "cell_type": "markdown",
   "metadata": {},
   "source": [
    "## Use the Pandas.DataFrame.Sample function to generate bootstrapped confidence intervals for the data from subject 11\n",
    "\n",
    "[see this page for Samples](https://pandas.pydata.org/pandas-docs/version/0.22/generated/pandas.DataFrame.sample.html)\n",
    "\n",
    "\n",
    "* Resample Sub11's data with replacement, each time pulling N samples (800 in this case)\n",
    "* Generate a distribution of means across all resamples\n",
    "* Compute 95% confidence intervals using:\n",
    "\n",
    "[this page for quantiles](https://pandas.pydata.org/pandas-docs/stable/generated/pandas.DataFrame.quantile.html)"
   ]
  },
  {
   "cell_type": "code",
   "execution_count": null,
   "metadata": {},
   "outputs": [],
   "source": []
  }
 ],
 "metadata": {
  "kernelspec": {
   "display_name": "Python 3",
   "language": "python",
   "name": "python3"
  },
  "language_info": {
   "codemirror_mode": {
    "name": "ipython",
    "version": 3
   },
   "file_extension": ".py",
   "mimetype": "text/x-python",
   "name": "python",
   "nbconvert_exporter": "python",
   "pygments_lexer": "ipython3",
   "version": "3.6.5"
  }
 },
 "nbformat": 4,
 "nbformat_minor": 2
}
