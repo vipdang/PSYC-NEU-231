{
 "cells": [
  {
   "cell_type": "markdown",
   "metadata": {},
   "source": [
    "## EXERCISES\n",
    "\n",
    "### Vector Multiplication\n",
    "1. Produce 2 vectors, one with integers in the range [5,10] and the other [15,20] using the np.arange function\n",
    "1. Without using any functions from the numpy module\n",
    "    1. Compute the outer product of those vectors \n",
    "    1. Compute the \"trace\" of the resulting matrix\n",
    "    \n",
    "    ![trace](https://wikimedia.org/api/rest_v1/media/math/render/svg/3e5b6e82272fc5eeca6d510388e0a2bd0a6c6463)\n",
    "    \n",
    "    \n",
    "Complete the same items using numpy operations"
   ]
  },
  {
   "cell_type": "code",
   "execution_count": 1,
   "metadata": {},
   "outputs": [
    {
     "name": "stdout",
     "output_type": "stream",
     "text": [
      "[ 5  6  7  8  9 10]\n",
      "[15 16 17 18 19 20]\n",
      "Outer Product:\n",
      "[[75, 80, 85, 90, 95, 100], [90, 96, 102, 108, 114, 120], [105, 112, 119, 126, 133, 140], [120, 128, 136, 144, 152, 160], [135, 144, 153, 162, 171, 180], [150, 160, 170, 180, 190, 200]]\n",
      "[[ 75  80  85  90  95 100]\n",
      " [ 90  96 102 108 114 120]\n",
      " [105 112 119 126 133 140]\n",
      " [120 128 136 144 152 160]\n",
      " [135 144 153 162 171 180]\n",
      " [150 160 170 180 190 200]]\n",
      "805\n"
     ]
    }
   ],
   "source": [
    "import numpy as np\n",
    "from numpy import pi\n",
    "import matplotlib.pyplot as plt\n",
    "from scipy.stats import norm\n",
    "\n",
    "# 1 \n",
    "x = np.arange(5,11)\n",
    "print(x)\n",
    "y = np.arange(15,21)\n",
    "print(y)\n",
    "\n",
    "# 2A \n",
    "c_out = [[x[i]*y[j] for j in range(len(y))]for i in range(len(x))]\n",
    "print('Outer Product:') # Print Output\n",
    "print(c_out)\n",
    "\n",
    "n_out = np.outer(x,y)\n",
    "print(n_out)\n",
    "\n",
    "# 2B\n",
    "# trace of outer product of 2 vectors is the inner product of the 2 vectors\n",
    "\n",
    "np.trace(n_out)\n",
    "\n",
    "c_trace = [x[i]*y[i] for i in range(len(x))]\n",
    "print (sum(c_trace))"
   ]
  },
  {
   "cell_type": "markdown",
   "metadata": {},
   "source": [
    "### Matrix Multiplication\n",
    "* Two matricies can be multiplied if their inner dimensions match (eg. 2x3 * 3x5 -> 2x5). The best rule for working with and mutliplying matricies is to remember (rows x columns). This applies to both the dimensions of a matrix (a 2x3 matrix has 2 rows and 3 columns) as well as multiplication (you multiply the rows of the first matrix by the columns of the second). \n",
    "\n",
    "* When multiplying two matricies of dimension (M x N)*(N x P) the resulting matrix is (M x P). The upper element of the reslting matrix is the inner (or dot) product of the first row of the first matrix and the first column of the second matrix\n",
    "\n",
    "![two matrices](https://wikimedia.org/api/rest_v1/media/math/render/svg/16b1644351bc2041175b19cbc65da03ef78130c7)\n",
    "\n",
    "![store product in matrix C](https://wikimedia.org/api/rest_v1/media/math/render/svg/00ac0c831c365b7424cc43239aae8cebea27c56c)\n",
    "\n",
    "![matrix multiply](https://wikimedia.org/api/rest_v1/media/math/render/svg/3cfeccef1c8c7e6da0ddf08daed8dbf3c6f50c5e)\n",
    "\n",
    "for i = 1, ..., n and j = 1, ..., p.\n",
    "\n",
    "1. Make two matrices of random numbers (A and B). A should be a 4x3 matrix and B should be a 3x5 matrix. Multiply A by B using (to a resulting matrix C) using:\n",
    "    1. a conventional for-loop\n",
    "    1. list comprehension\n",
    "    1. numpy operator\n",
    "    \n",
    "2. After you have C, pull out the upper quadrant using fancy indexing, and then replace the main diagonal (upper left to lower right) with 0s. "
   ]
  },
  {
   "cell_type": "code",
   "execution_count": 2,
   "metadata": {
    "scrolled": false
   },
   "outputs": [
    {
     "name": "stdout",
     "output_type": "stream",
     "text": [
      "[[ 8.  8.  9.]\n",
      " [10.  2.  7.]\n",
      " [ 3.  6.  5.]\n",
      " [ 1.  9.  5.]]\n",
      "[[ 7.  8.  8.  5.  9.]\n",
      " [10.  1.  5.  0.  0.]\n",
      " [ 6.  3.  1.  1.  3.]]\n",
      "5\n",
      "[56.0, 136.0, 190.0, 64.0, 72.0, 99.0, 64.0, 104.0, 113.0, 40.0, 40.0, 49.0, 72.0, 72.0, 99.0, 70.0, 90.0, 132.0, 80.0, 82.0, 103.0, 80.0, 90.0, 97.0, 50.0, 50.0, 57.0, 90.0, 90.0, 111.0, 21.0, 81.0, 111.0, 24.0, 30.0, 45.0, 24.0, 54.0, 59.0, 15.0, 15.0, 20.0, 27.0, 27.0, 42.0, 7.0, 97.0, 127.0, 8.0, 17.0, 32.0, 8.0, 53.0, 58.0, 5.0, 5.0, 10.0, 9.0, 9.0, 24.0]\n",
      "[[56.0, 64.0, 64.0], [80.0, 8.0, 40.0], [54.0, 27.0, 9.0], [70.0, 80.0, 80.0], [20.0, 2.0, 10.0], [42.0, 21.0, 7.0], [21.0, 24.0, 24.0], [60.0, 6.0, 30.0], [30.0, 15.0, 5.0], [7.0, 8.0, 8.0], [90.0, 9.0, 45.0], [30.0, 15.0, 5.0]]\n",
      "[[190.  99. 113.  49.  99.]\n",
      " [132. 103.  97.  57. 111.]\n",
      " [111.  45.  59.  20.  42.]\n",
      " [127.  32.  58.  10.  24.]]\n",
      "[[190.  99.]\n",
      " [132. 103.]]\n"
     ]
    }
   ],
   "source": [
    "#1\n",
    "A = np.round(np.random.rand(4,3)*10)\n",
    "print(A)\n",
    "\n",
    "B = np.round(np.random.rand(3,5)*10)\n",
    "print(B)\n",
    "  \n",
    "#1A\n",
    "\n",
    "#C = [] # final result\n",
    "#for i in range(len(A)):\n",
    "#    row = [] # the new row in new matrix\n",
    "#    for j in range(len(B)):\n",
    "#        product = 0 # the new element in the new row\n",
    "#        for v in range(len(A[i])):\n",
    "#            product += A[i][v] * B[v][j]\n",
    "#        row.append(product) # append sum of product into the new row\n",
    "#    C.append(row) # append the new row into the final result\n",
    "\n",
    "X,Y = np.shape(B) \n",
    "print(Y)\n",
    "\n",
    "C = [] #final result\n",
    "for i in range(len(A)):\n",
    "    for j in range(Y):\n",
    "        product = 0\n",
    "        for k in range(len(A[i])):\n",
    "            product += A[i][k] * B[k][j]\n",
    "            C.append(product)\n",
    "        \n",
    "print(C)\n",
    "\n",
    "#1B\n",
    "c_out = [[A[i][v]*B[v][j] for j in range(len(B))]for i in range(len(A))for v in range(len(A[i]))]\n",
    "print(c_out)\n",
    "\n",
    "#1C\n",
    "D = np.matmul(A,B)\n",
    "print(D)\n",
    "\n",
    "#2\n",
    "\n",
    "print(D[:2,0:2])\n"
   ]
  },
  {
   "cell_type": "code",
   "execution_count": 17,
   "metadata": {},
   "outputs": [
    {
     "name": "stdout",
     "output_type": "stream",
     "text": [
      "[[190.  99. 113.  49.  99.]\n",
      " [132. 103.  97.  57. 111.]\n",
      " [111.  45.  59.  20.  42.]\n",
      " [127.  32.  58.  10.  24.]]\n",
      "[[190.  99.]\n",
      " [132. 103.]]\n",
      "[[  0.  99.]\n",
      " [132.   0.]]\n"
     ]
    }
   ],
   "source": [
    "D = np.matmul(A,B)\n",
    "print(D)\n",
    "\n",
    "#2\n",
    "\n",
    "print(D[:2,:2]) \n",
    "E = D[:2,:2]\n",
    "D[0,0] = 0\n",
    "D[1,1] = 0\n",
    "print(E)\n",
    "\n",
    "        "
   ]
  },
  {
   "cell_type": "code",
   "execution_count": 51,
   "metadata": {},
   "outputs": [
    {
     "name": "stdout",
     "output_type": "stream",
     "text": [
      "[[ 62.  26.  42.  56.  60.]\n",
      " [ 92.  68.  80. 112. 108.]\n",
      " [ 56.  38.  51.  66.  76.]\n",
      " [ 45.  27.  48.  52.  85.]]\n"
     ]
    }
   ],
   "source": [
    "C = [] #final result\n",
    "for i in range(np.shape(A)[0]): #- i is for every row in A\n",
    "    new_row = []\n",
    "    for j in range(np.shape(B)[1]): #- j is for every col in B\n",
    "        product = 0\n",
    "        for k in range(np.shape(A)[1]): #- loop over inner dimension\n",
    "            product += A[i,k] * B[k,j]\n",
    "        new_row.append(product)    \n",
    "    C.append(new_row)\n",
    "        \n",
    "print (np.array(C))"
   ]
  },
  {
   "cell_type": "code",
   "execution_count": 45,
   "metadata": {},
   "outputs": [
    {
     "data": {
      "text/plain": [
       "3.0"
      ]
     },
     "execution_count": 45,
     "metadata": {},
     "output_type": "execute_result"
    }
   ],
   "source": [
    "A[i,k]"
   ]
  },
  {
   "cell_type": "code",
   "execution_count": 12,
   "metadata": {},
   "outputs": [
    {
     "data": {
      "text/plain": [
       "array([[10.,  1.,  0.],\n",
       "       [ 9.,  5.,  9.],\n",
       "       [ 7.,  2.,  1.],\n",
       "       [ 6.,  8.,  2.]])"
      ]
     },
     "execution_count": 12,
     "metadata": {},
     "output_type": "execute_result"
    }
   ],
   "source": [
    "# A 4 x 3\n",
    "# B 3 x 5\n",
    "\n",
    "# first element = dot product of first row in A x first column in B\n",
    "# second element = dot product of first row in A x second column in B\n",
    "\n",
    "# 1. for loop that will print rows of A\n",
    "# 2. for each loop of A, sub loop print columns of B\n",
    "# 3. dot product of row of A and column of B (ai . bj)\n"
   ]
  },
  {
   "cell_type": "code",
   "execution_count": null,
   "metadata": {},
   "outputs": [],
   "source": []
  }
 ],
 "metadata": {
  "kernelspec": {
   "display_name": "Python 3",
   "language": "python",
   "name": "python3"
  },
  "language_info": {
   "codemirror_mode": {
    "name": "ipython",
    "version": 3
   },
   "file_extension": ".py",
   "mimetype": "text/x-python",
   "name": "python",
   "nbconvert_exporter": "python",
   "pygments_lexer": "ipython3",
   "version": "3.6.5"
  }
 },
 "nbformat": 4,
 "nbformat_minor": 2
}
