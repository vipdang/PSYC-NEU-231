{
 "cells": [
  {
   "cell_type": "markdown",
   "metadata": {},
   "source": [
    "## EXERCISES\n",
    "\n",
    "### Vector Multiplication\n",
    "1. Produce 2 vectors, one with integers in the range [5,10] and the other [15,20] using the np.arange function\n",
    "1. Without using any functions from the numpy module\n",
    "    1. Compute the outer product of those vectors \n",
    "    1. Compute the \"trace\" of the resulting matrix\n",
    "    \n",
    "    ![trace](https://wikimedia.org/api/rest_v1/media/math/render/svg/3e5b6e82272fc5eeca6d510388e0a2bd0a6c6463)\n",
    "    \n",
    "    \n",
    "Complete the same items using numpy operations"
   ]
  },
  {
   "cell_type": "code",
   "execution_count": 42,
   "metadata": {},
   "outputs": [
    {
     "name": "stdout",
     "output_type": "stream",
     "text": [
      "[ 5  6  7  8  9 10]\n",
      "[15 16 17 18 19 20]\n",
      "Outer Product:\n",
      "Object `trace` not found.\n"
     ]
    }
   ],
   "source": [
    "# 1 \n",
    "x = np.arange(5,11)\n",
    "print(x)\n",
    "y = np.arange(15,21)\n",
    "print(y)\n",
    "\n",
    "# 2A \n",
    "c_out = [[x[i]*y[j] for j in range(len(y))]for i in range(len(x))]\n",
    "print('Outer Product:') # Print Output\n",
    "c_out\n",
    "\n",
    "n_out = np.outer(x,y)\n",
    "n_out\n",
    "\n",
    "# 2B\n",
    "np.trace(n_out)"
   ]
  },
  {
   "cell_type": "markdown",
   "metadata": {},
   "source": [
    "### Matrix Multiplication\n",
    "* Two matricies can be multiplied if their inner dimensions match (eg. 2x3 * 3x5 -> 2x5). The best rule for working with and mutliplying matricies is to remember (rows x columns). This applies to both the dimensions of a matrix (a 2x3 matrix has 2 rows and 3 columns) as well as multiplication (you multiply the rows of the first matrix by the columns of the second). \n",
    "\n",
    "* When multiplying two matricies of dimension (M x N)*(N x P) the resulting matrix is (M x P). The upper element of the reslting matrix is the inner (or dot) product of the first row of the first matrix and the first column of the second matrix\n",
    "\n",
    "![two matrices](https://wikimedia.org/api/rest_v1/media/math/render/svg/16b1644351bc2041175b19cbc65da03ef78130c7)\n",
    "\n",
    "![store product in matrix C](https://wikimedia.org/api/rest_v1/media/math/render/svg/00ac0c831c365b7424cc43239aae8cebea27c56c)\n",
    "\n",
    "![matrix multiply](https://wikimedia.org/api/rest_v1/media/math/render/svg/3cfeccef1c8c7e6da0ddf08daed8dbf3c6f50c5e)\n",
    "\n",
    "for i = 1, ..., n and j = 1, ..., p.\n",
    "\n",
    "1. Make two matrices of random numbers (A and B). A should be a 4x3 matrix and B should be a 3x4 matrix. Multiply A by B using (to a resulting matrix C) using:\n",
    "    1. a conventional for-loop\n",
    "    1. list comprehension\n",
    "    1. numpy operator\n",
    "    \n",
    "2. After you have C, pull out the upper quadrant using fancy indexing, and then replace the main diagonal (upper left to lower right) with 0s. "
   ]
  },
  {
   "cell_type": "code",
   "execution_count": 99,
   "metadata": {
    "scrolled": true
   },
   "outputs": [
    {
     "name": "stdout",
     "output_type": "stream",
     "text": [
      "[[4. 1. 4.]\n",
      " [2. 9. 8.]\n",
      " [5. 8. 1.]\n",
      " [9. 1. 5.]]\n",
      "[[8. 4. 8. 5.]\n",
      " [8. 2. 4. 9.]\n",
      " [6. 6. 6. 4.]]\n"
     ]
    },
    {
     "ename": "IndexError",
     "evalue": "index 3 is out of bounds for axis 0 with size 3",
     "output_type": "error",
     "traceback": [
      "\u001b[0;31m---------------------------------------------------------------------------\u001b[0m",
      "\u001b[0;31mIndexError\u001b[0m                                Traceback (most recent call last)",
      "\u001b[0;32m<ipython-input-99-6090f1761381>\u001b[0m in \u001b[0;36m<module>\u001b[0;34m()\u001b[0m\n\u001b[1;32m     13\u001b[0m     \u001b[0;32mfor\u001b[0m \u001b[0mj\u001b[0m \u001b[0;32min\u001b[0m \u001b[0mrange\u001b[0m\u001b[0;34m(\u001b[0m\u001b[0mlen\u001b[0m\u001b[0;34m(\u001b[0m\u001b[0mB\u001b[0m\u001b[0;34m)\u001b[0m\u001b[0;34m)\u001b[0m\u001b[0;34m:\u001b[0m\u001b[0;34m\u001b[0m\u001b[0m\n\u001b[1;32m     14\u001b[0m         \u001b[0;32mfor\u001b[0m \u001b[0mk\u001b[0m \u001b[0;32min\u001b[0m \u001b[0mrange\u001b[0m\u001b[0;34m(\u001b[0m\u001b[0mlen\u001b[0m\u001b[0;34m(\u001b[0m\u001b[0mB\u001b[0m\u001b[0;34m[\u001b[0m\u001b[0;36m0\u001b[0m\u001b[0;34m]\u001b[0m\u001b[0;34m)\u001b[0m\u001b[0;34m)\u001b[0m\u001b[0;34m:\u001b[0m\u001b[0;34m\u001b[0m\u001b[0m\n\u001b[0;32m---> 15\u001b[0;31m             \u001b[0mrow\u001b[0m\u001b[0;34m.\u001b[0m\u001b[0mappend\u001b[0m\u001b[0;34m(\u001b[0m\u001b[0mA\u001b[0m\u001b[0;34m[\u001b[0m\u001b[0mi\u001b[0m\u001b[0;34m]\u001b[0m\u001b[0;34m[\u001b[0m\u001b[0mk\u001b[0m\u001b[0;34m]\u001b[0m\u001b[0;34m*\u001b[0m\u001b[0mB\u001b[0m\u001b[0;34m[\u001b[0m\u001b[0mk\u001b[0m\u001b[0;34m]\u001b[0m\u001b[0;34m[\u001b[0m\u001b[0mj\u001b[0m\u001b[0;34m]\u001b[0m\u001b[0;34m)\u001b[0m\u001b[0;34m\u001b[0m\u001b[0m\n\u001b[0m\u001b[1;32m     16\u001b[0m \u001b[0;34m\u001b[0m\u001b[0m\n\u001b[1;32m     17\u001b[0m     \u001b[0mp_out\u001b[0m\u001b[0;34m.\u001b[0m\u001b[0mappend\u001b[0m\u001b[0;34m(\u001b[0m\u001b[0mrow\u001b[0m\u001b[0;34m)\u001b[0m\u001b[0;34m\u001b[0m\u001b[0m\n",
      "\u001b[0;31mIndexError\u001b[0m: index 3 is out of bounds for axis 0 with size 3"
     ]
    }
   ],
   "source": [
    "#1\n",
    "A = np.round(np.random.rand(4,3)*10)\n",
    "print(A)\n",
    "\n",
    "B = np.round(np.random.rand(3,4)*10)\n",
    "print(B)\n",
    "  \n",
    "#1A\n",
    "C = []\n",
    "\n",
    "for i in range(len(A)): \n",
    "    row = [] \n",
    "    for j in range(len(B)):\n",
    "        for k in range(len(B[0])):\n",
    "            row.append(A[i][k]*B[k][j])\n",
    "        \n",
    "    p_out.append(row)\n",
    "print(C)\n",
    "\n",
    "\n",
    "#1B\n",
    "c_out = [[A[i]*B[j] for j in range(len(B))]for i in range(len(A))]\n",
    "print(c_out)\n",
    "\n",
    "#1C\n",
    "C = np.outer(A,B)\n",
    "print(C)\n",
    "\n",
    "#2\n",
    "\n",
    "print(C[:2,0:2])"
   ]
  },
  {
   "cell_type": "code",
   "execution_count": 68,
   "metadata": {},
   "outputs": [
    {
     "name": "stdout",
     "output_type": "stream",
     "text": [
      "Object `append` not found.\n"
     ]
    }
   ],
   "source": []
  },
  {
   "cell_type": "code",
   "execution_count": null,
   "metadata": {},
   "outputs": [],
   "source": []
  }
 ],
 "metadata": {
  "kernelspec": {
   "display_name": "Python 3",
   "language": "python",
   "name": "python3"
  },
  "language_info": {
   "codemirror_mode": {
    "name": "ipython",
    "version": 3
   },
   "file_extension": ".py",
   "mimetype": "text/x-python",
   "name": "python",
   "nbconvert_exporter": "python",
   "pygments_lexer": "ipython3",
   "version": "3.6.5"
  }
 },
 "nbformat": 4,
 "nbformat_minor": 2
}
