{
 "cells": [
  {
   "cell_type": "markdown",
   "metadata": {},
   "source": [
    "# In class exercises for Tutorial00 intro to jupyter and python basics"
   ]
  },
  {
   "cell_type": "markdown",
   "metadata": {},
   "source": [
    "## Exercise 1\n",
    "1. Create a list (my_list) with values from 1 to 100\n",
    "1. Print every 4th value from 20 to 80\n",
    "1. Print the above sequence backwards\n",
    "1. Compute the sum of the above sequence (hint: there is a built in function 'sum')"
   ]
  },
  {
   "cell_type": "code",
   "execution_count": 21,
   "metadata": {},
   "outputs": [
    {
     "name": "stdout",
     "output_type": "stream",
     "text": [
      "[20, 24, 28, 32, 36, 40, 44, 48, 52, 56, 60, 64, 68, 72, 76, 80]\n",
      "[80, 76, 72, 68, 64, 60, 56, 52, 48, 44, 40, 36, 32, 28, 24, 20]\n"
     ]
    },
    {
     "data": {
      "text/plain": [
       "800"
      ]
     },
     "execution_count": 21,
     "metadata": {},
     "output_type": "execute_result"
    }
   ],
   "source": [
    "x = list(range(1,101))\n",
    "y = x[19:80:4]\n",
    "print(y)\n",
    "print(y[::-1])\n",
    "z = (y[::-1])\n",
    "sum(z)"
   ]
  },
  {
   "cell_type": "markdown",
   "metadata": {},
   "source": [
    "## Exercise 2\n",
    "Tuples are often used to pass values into functions. One nice feature is that their values can be passed to multiple variables at once, for example:\n",
    "\n",
    "my_tuple = ('A','B')\n",
    "\n",
    "a,b = my_tuple\n",
    "\n",
    "will set a and b to the ordered elements in my_tuple. \n",
    "\n",
    "What are a few different ways that you can make a new tuple that combine our Dr. Seuss themed tuples from earlier?\n",
    "1. By creating lots of temporary variables (messy)\n",
    "1. By using a for loop (less messy)\n",
    "1. By using a list (best?)\n",
    "\n",
    "We want one continuous tuple of strings, **not a tuple of tuples** as in the bad example below"
   ]
  },
  {
   "cell_type": "code",
   "execution_count": 13,
   "metadata": {},
   "outputs": [
    {
     "name": "stdout",
     "output_type": "stream",
     "text": [
      "((1, 'fish', 2, 'fish'), ('red', 'fish', 'blue', 'fish'))\n",
      "(1, 'fish', 2, 'fish', 'red', 'fish', 'blue', 'fish')\n",
      "[1, 'fish', 2, 'fish', 'red', 'fish', 'blue', 'fish']\n",
      "([1, 'fish', 2, 'fish'], ['red', 'fish', 'blue', 'fish'])\n"
     ]
    }
   ],
   "source": [
    "a_simple_tuple = (1,'fish',2,'fish')\n",
    "annother_tuple = ('red','fish','blue','fish')\n",
    "bad_tuple = (a_simple_tuple,annother_tuple)\n",
    "print(bad_tuple)\n",
    "\n",
    "#1\n",
    "my_tuple = (1,'fish',2,'fish','red','fish','blue','fish')\n",
    "a,b,c,d,e,f,g,h = my_tuple\n",
    "temp = a,b,c,d,e,f,g,h\n",
    "print(temp)\n",
    "\n",
    "#2\n",
    "a = list(a_simple_tuple)\n",
    "b = list(annother_tuple)\n",
    "# for i in range(1):\n",
    "c=[]\n",
    "for i in range(8):\n",
    "    if i <4:\n",
    "        c.append(a[i])\n",
    "    else:\n",
    "        c.append(b[i-4])\n",
    "print(c)\n",
    "#3  \n",
    "a = [1,'fish',2,'fish']\n",
    "b = ['red','fish','blue','fish']\n",
    "fishy_tuple = (a,b)\n",
    "print(fishy_tuple)"
   ]
  },
  {
   "cell_type": "markdown",
   "metadata": {},
   "source": [
    "## Exercise 3\n",
    "Dictionaries are meant to be called by their keys. The order of a dictionary's keys is **not-predictable** (even though the above example seems to stay in the order we put time in... this is not dependable because a hash is used to link the keys and the items). You can access all values in a dictionary using the values command.\n",
    "1. Create a Tuple of UC Schools in order of enrollment size (this should be challenging as this is not how dictionaries are **typically** used\n",
    " *  To get things started we have a sorted list of school enrollement \n",
    " *  We can loop through each school-size and determine which school it is a match to\n",
    " *  This we can append to a new list (schools_bySize)\n",
    " *  We have started things off below...\n",
    "1. BONUS: have them print together nicely :)"
   ]
  },
  {
   "cell_type": "code",
   "execution_count": 42,
   "metadata": {},
   "outputs": [
    {
     "name": "stdout",
     "output_type": "stream",
     "text": [
      "Santa Cruz 16962\n",
      "Merced 6815\n",
      "Riverside 19799\n",
      "Santa Barbara 21574\n",
      "Irvine 27331\n",
      "San Diego 28127\n",
      "Berkeley 29310\n",
      "Davis 29379\n",
      "Los Angeles 30873\n"
     ]
    }
   ],
   "source": [
    "UCdict = { \"Santa Cruz\":16962,\"Merced\":6815, \"Riverside\":19799, \"Santa Barbara\":21574, \"Irvine\":27331, \"San Diego\":28127, \"Berkeley\":29310, \"Davis\":29379, \"Los Angeles\":30873}\n",
    "schools = UCdict.keys()\n",
    "for school in schools:\n",
    "    enrollment = UCdict[school]\n",
    "    print(school, enrollment)\n",
    "    \n",
    "list_of_enrollment = list(UCdict.values())\n",
    "list_of_schools = list(UCdict.keys())\n",
    "list_of_enrollment.sort()"
   ]
  },
  {
   "cell_type": "code",
   "execution_count": 86,
   "metadata": {},
   "outputs": [
    {
     "name": "stdout",
     "output_type": "stream",
     "text": [
      "Merced\n",
      "Santa Cruz\n",
      "Riverside\n",
      "Santa Barbara\n",
      "Irvine\n",
      "San Diego\n",
      "Berkeley\n",
      "Davis\n",
      "Los Angeles\n",
      "['Merced', 'Santa Cruz', 'Riverside', 'Santa Barbara', 'Irvine', 'San Diego', 'Berkeley', 'Davis', 'Los Angeles']\n",
      "('Merced', 'Santa Cruz', 'Riverside', 'Santa Barbara', 'Irvine', 'San Diego', 'Berkeley', 'Davis', 'Los Angeles')\n"
     ]
    }
   ],
   "source": [
    "sorted_schools = []\n",
    "for i in range(len(list_of_enrollment)):\n",
    "    this_size = list_of_enrollment[i]\n",
    "    \n",
    "    for j in range(len(list_of_schools)):\n",
    "        this_school = list_of_schools[j]\n",
    "        this_school_size = UCdict[this_school]\n",
    "        if this_school_size == this_size:\n",
    "            print(this_school)\n",
    "            sorted_schools.append(this_school)\n",
    "print(sorted_schools)\n",
    "some_tuple = tuple(sorted_schools)\n",
    "print(some_tuple)"
   ]
  },
  {
   "cell_type": "code",
   "execution_count": 39,
   "metadata": {},
   "outputs": [
    {
     "name": "stdout",
     "output_type": "stream",
     "text": [
      "[6815, 16962, 19799, 21574, 27331, 28127, 29310, 29379, 30873]\n",
      "['Merced', 'Santa Cruz', 'Riverside', 'Santa Barbara', 'Irvine', 'San Diego', 'Berkeley', 'Davis', 'Los Angeles']\n"
     ]
    }
   ],
   "source": [
    "print(list_of_enrollment)\n",
    "print(list_of_schools)"
   ]
  },
  {
   "cell_type": "code",
   "execution_count": 30,
   "metadata": {},
   "outputs": [
    {
     "name": "stdout",
     "output_type": "stream",
     "text": [
      "0\n",
      "Merced 6815\n",
      "1\n",
      "Santa Cruz 16962\n",
      "2\n",
      "Riverside 19799\n",
      "3\n",
      "Santa Barbara 21574\n",
      "4\n",
      "Irvine 27331\n",
      "5\n",
      "San Diego 28127\n",
      "6\n",
      "Berkeley 29310\n",
      "7\n",
      "Davis 29379\n",
      "8\n",
      "Los Angeles 30873\n"
     ]
    }
   ],
   "source": [
    "schools = list(schools)\n",
    "for i in range(len(schools)):\n",
    "    print(i)\n",
    "    school = schools[i]\n",
    "    enrollment = UCdict[school]\n",
    "    print(school, enrollment)"
   ]
  },
  {
   "cell_type": "code",
   "execution_count": 28,
   "metadata": {},
   "outputs": [
    {
     "ename": "AttributeError",
     "evalue": "'dict_keys' object has no attribute 'values'",
     "output_type": "error",
     "traceback": [
      "\u001b[0;31m---------------------------------------------------------------------------\u001b[0m",
      "\u001b[0;31mAttributeError\u001b[0m                            Traceback (most recent call last)",
      "\u001b[0;32m<ipython-input-28-5becac314771>\u001b[0m in \u001b[0;36m<module>\u001b[0;34m()\u001b[0m\n\u001b[0;32m----> 1\u001b[0;31m \u001b[0mschools\u001b[0m\u001b[0;34m.\u001b[0m\u001b[0mvalues\u001b[0m\u001b[0;34m\u001b[0m\u001b[0m\n\u001b[0m",
      "\u001b[0;31mAttributeError\u001b[0m: 'dict_keys' object has no attribute 'values'"
     ]
    }
   ],
   "source": []
  },
  {
   "cell_type": "markdown",
   "metadata": {},
   "source": [
    "\n",
    "# Exercise 4\n",
    "\n",
    "Write a module (in a .py file) that takes a list of 2 numbers and sorts them from low to high using a if...elif...else statement. \n",
    "\n",
    "Also include another function that will take a longer list of numbers (say ~5) and that uses a 'for' loop to compute the product of all numbers in the array. \n",
    "\n",
    "Bonus - for the first function that sorts the two numbers, do some checking to make sure that the input is exactly two numerical values and return gracefully with a helpful message if not. "
   ]
  },
  {
   "cell_type": "code",
   "execution_count": 138,
   "metadata": {},
   "outputs": [
    {
     "ename": "NameError",
     "evalue": "name 's' is not defined",
     "output_type": "error",
     "traceback": [
      "\u001b[0;31m---------------------------------------------------------------------------\u001b[0m",
      "\u001b[0;31mNameError\u001b[0m                                 Traceback (most recent call last)",
      "\u001b[0;32m<ipython-input-138-f718d28e782c>\u001b[0m in \u001b[0;36m<module>\u001b[0;34m()\u001b[0m\n\u001b[1;32m     13\u001b[0m     \u001b[0;32mreturn\u001b[0m \u001b[0mz\u001b[0m\u001b[0;34m\u001b[0m\u001b[0m\n\u001b[1;32m     14\u001b[0m \u001b[0;34m\u001b[0m\u001b[0m\n\u001b[0;32m---> 15\u001b[0;31m \u001b[0mprint\u001b[0m\u001b[0;34m(\u001b[0m\u001b[0ms\u001b[0m\u001b[0;34m)\u001b[0m\u001b[0;34m\u001b[0m\u001b[0m\n\u001b[0m",
      "\u001b[0;31mNameError\u001b[0m: name 's' is not defined"
     ]
    }
   ],
   "source": [
    "def sort_2_numbers(a,b):\n",
    "    if a > b or a == b:\n",
    "        return (b,a)\n",
    "    elif a < b:\n",
    "        return (a,b)\n",
    "\n",
    "tests = [[5,10,15,20,4],[4,3,-2,1,0],[100,1000,10,1,10000]]\n",
    "    \n",
    "def productoflist(t):\n",
    "    s = t * t[i]\n",
    "    for z in tests:\n",
    "        s *= t\n",
    "    return z\n",
    "\n",
    "print(s)"
   ]
  },
  {
   "cell_type": "code",
   "execution_count": 65,
   "metadata": {},
   "outputs": [
    {
     "name": "stdout",
     "output_type": "stream",
     "text": [
      "120\n"
     ]
    }
   ],
   "source": [
    "\n",
    "\n",
    "if a > b or a == b:\n",
    "    print(b,a)\n",
    "elif a < b:\n",
    "    print (a,b)\n",
    "    \n",
    "if len(numberlist) == 2:\n",
    "    continue\n",
    "else:\n",
    "    print(\"You need a list with 2 numbers!\")\n",
    "    \n",
    "secondnumberlist = [1,2,3,4,5]    \n",
    "for i in range(1):\n",
    "    print(secondnumberlist[0]*secondnumberlist[1]*secondnumberlist[2]*secondnumberlist[3]*secondnumberlist[4])"
   ]
  },
  {
   "cell_type": "code",
   "execution_count": null,
   "metadata": {},
   "outputs": [],
   "source": [
    "tests = [[5,10,15,20,4],[4,3,-2,1,0],[100,1000,10,1,10000]]\n"
   ]
  },
  {
   "cell_type": "code",
   "execution_count": 92,
   "metadata": {},
   "outputs": [],
   "source": [
    "import numpy as np"
   ]
  },
  {
   "cell_type": "code",
   "execution_count": 102,
   "metadata": {},
   "outputs": [
    {
     "data": {
      "text/plain": [
       "array([0.5610902 , 0.63290762, 0.69569618, 0.76084429, 0.00274917])"
      ]
     },
     "execution_count": 102,
     "metadata": {},
     "output_type": "execute_result"
    }
   ],
   "source": []
  },
  {
   "cell_type": "code",
   "execution_count": null,
   "metadata": {},
   "outputs": [],
   "source": []
  },
  {
   "cell_type": "code",
   "execution_count": null,
   "metadata": {},
   "outputs": [],
   "source": []
  }
 ],
 "metadata": {
  "kernelspec": {
   "display_name": "Python 3",
   "language": "python",
   "name": "python3"
  },
  "language_info": {
   "codemirror_mode": {
    "name": "ipython",
    "version": 3
   },
   "file_extension": ".py",
   "mimetype": "text/x-python",
   "name": "python",
   "nbconvert_exporter": "python",
   "pygments_lexer": "ipython3",
   "version": "3.6.5"
  }
 },
 "nbformat": 4,
 "nbformat_minor": 2
}
