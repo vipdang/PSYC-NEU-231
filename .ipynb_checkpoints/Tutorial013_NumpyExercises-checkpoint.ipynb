{
 "cells": [
  {
   "cell_type": "markdown",
   "metadata": {},
   "source": [
    "## EXERCISES\n",
    "\n",
    "### Vector Multiplication\n",
    "1. Produce 2 vectors, one with integers in the range [5,10] and the other [15,20] using the np.arange function\n",
    "1. Without using any functions from the numpy module\n",
    "    1. Compute the outer product of those vectors \n",
    "    1. Compute the \"trace\" of the resulting matrix\n",
    "    \n",
    "    ![trace](https://wikimedia.org/api/rest_v1/media/math/render/svg/3e5b6e82272fc5eeca6d510388e0a2bd0a6c6463)\n",
    "    \n",
    "    \n",
    "Complete the same items using numpy operations"
   ]
  },
  {
   "cell_type": "code",
   "execution_count": 6,
   "metadata": {},
   "outputs": [
    {
     "name": "stdout",
     "output_type": "stream",
     "text": [
      "[ 5  6  7  8  9 10]\n",
      "[15 16 17 18 19 20]\n",
      "Outer Product:\n",
      "[[75, 80, 85, 90, 95, 100], [90, 96, 102, 108, 114, 120], [105, 112, 119, 126, 133, 140], [120, 128, 136, 144, 152, 160], [135, 144, 153, 162, 171, 180], [150, 160, 170, 180, 190, 200]]\n",
      "[[ 75  80  85  90  95 100]\n",
      " [ 90  96 102 108 114 120]\n",
      " [105 112 119 126 133 140]\n",
      " [120 128 136 144 152 160]\n",
      " [135 144 153 162 171 180]\n",
      " [150 160 170 180 190 200]]\n",
      "805\n"
     ]
    }
   ],
   "source": [
    "import numpy as np\n",
    "from numpy import pi\n",
    "import matplotlib.pyplot as plt\n",
    "from scipy.stats import norm\n",
    "\n",
    "# 1 \n",
    "x = np.arange(5,11)\n",
    "print(x)\n",
    "y = np.arange(15,21)\n",
    "print(y)\n",
    "\n",
    "# 2A \n",
    "c_out = [[x[i]*y[j] for j in range(len(y))]for i in range(len(x))]\n",
    "print('Outer Product:') # Print Output\n",
    "print(c_out)\n",
    "\n",
    "n_out = np.outer(x,y)\n",
    "print(n_out)\n",
    "\n",
    "# 2B\n",
    "# trace of outer product of 2 vectors is the inner product of the 2 vectors\n",
    "\n",
    "np.trace(n_out)\n",
    "\n",
    "c_trace = [x[i]*y[i] for i in range(len(x))]\n",
    "print (sum(c_trace))"
   ]
  },
  {
   "cell_type": "markdown",
   "metadata": {},
   "source": [
    "### Matrix Multiplication\n",
    "* Two matricies can be multiplied if their inner dimensions match (eg. 2x3 * 3x5 -> 2x5). The best rule for working with and mutliplying matricies is to remember (rows x columns). This applies to both the dimensions of a matrix (a 2x3 matrix has 2 rows and 3 columns) as well as multiplication (you multiply the rows of the first matrix by the columns of the second). \n",
    "\n",
    "* When multiplying two matricies of dimension (M x N)*(N x P) the resulting matrix is (M x P). The upper element of the reslting matrix is the inner (or dot) product of the first row of the first matrix and the first column of the second matrix\n",
    "\n",
    "![two matrices](https://wikimedia.org/api/rest_v1/media/math/render/svg/16b1644351bc2041175b19cbc65da03ef78130c7)\n",
    "\n",
    "![store product in matrix C](https://wikimedia.org/api/rest_v1/media/math/render/svg/00ac0c831c365b7424cc43239aae8cebea27c56c)\n",
    "\n",
    "![matrix multiply](https://wikimedia.org/api/rest_v1/media/math/render/svg/3cfeccef1c8c7e6da0ddf08daed8dbf3c6f50c5e)\n",
    "\n",
    "for i = 1, ..., n and j = 1, ..., p.\n",
    "\n",
    "1. Make two matrices of random numbers (A and B). A should be a 4x3 matrix and B should be a 3x5 matrix. Multiply A by B using (to a resulting matrix C) using:\n",
    "    1. a conventional for-loop\n",
    "    1. list comprehension\n",
    "    1. numpy operator\n",
    "    \n",
    "2. After you have C, pull out the upper quadrant using fancy indexing, and then replace the main diagonal (upper left to lower right) with 0s. "
   ]
  },
  {
   "cell_type": "code",
   "execution_count": 54,
   "metadata": {
    "scrolled": false
   },
   "outputs": [
    {
     "name": "stdout",
     "output_type": "stream",
     "text": [
      "[[ 6.  4.  2.]\n",
      " [ 1.  3.  2.]\n",
      " [10.  1.  4.]\n",
      " [ 0.  8.  4.]]\n",
      "[[4. 4. 2. 0. 3.]\n",
      " [8. 6. 2. 2. 4.]\n",
      " [7. 7. 2. 4. 1.]]\n",
      "5\n",
      "[24.0, 56.0, 70.0, 24.0, 48.0, 62.0, 12.0, 20.0, 24.0, 0.0, 8.0, 16.0, 18.0, 34.0, 36.0, 4.0, 28.0, 42.0, 4.0, 22.0, 36.0, 2.0, 8.0, 12.0, 0.0, 6.0, 14.0, 3.0, 15.0, 17.0, 40.0, 48.0, 76.0, 40.0, 46.0, 74.0, 20.0, 22.0, 30.0, 0.0, 2.0, 18.0, 30.0, 34.0, 38.0, 0.0, 64.0, 92.0, 0.0, 48.0, 76.0, 0.0, 16.0, 24.0, 0.0, 16.0, 32.0, 0.0, 32.0, 36.0]\n",
      "[[24.0, 24.0, 12.0], [32.0, 24.0, 8.0], [14.0, 14.0, 4.0], [4.0, 4.0, 2.0], [24.0, 18.0, 6.0], [14.0, 14.0, 4.0], [40.0, 40.0, 20.0], [8.0, 6.0, 2.0], [28.0, 28.0, 8.0], [0.0, 0.0, 0.0], [64.0, 48.0, 16.0], [28.0, 28.0, 8.0]]\n",
      "[[70. 62. 24. 16. 36.]\n",
      " [42. 36. 12. 14. 17.]\n",
      " [76. 74. 30. 18. 38.]\n",
      " [92. 76. 24. 32. 36.]]\n",
      "[[70. 62.]\n",
      " [42. 36.]]\n"
     ]
    }
   ],
   "source": [
    "#1\n",
    "A = np.round(np.random.rand(4,3)*10)\n",
    "print(A)\n",
    "\n",
    "B = np.round(np.random.rand(3,5)*10)\n",
    "print(B)\n",
    "  \n",
    "#1A\n",
    "\n",
    "#C = [] # final result\n",
    "#for i in range(len(A)):\n",
    "#    row = [] # the new row in new matrix\n",
    "#    for j in range(len(B)):\n",
    "#        product = 0 # the new element in the new row\n",
    "#        for v in range(len(A[i])):\n",
    "#            product += A[i][v] * B[v][j]\n",
    "#        row.append(product) # append sum of product into the new row\n",
    "#    C.append(row) # append the new row into the final result\n",
    "\n",
    "X,Y = np.shape(B) \n",
    "print(Y)\n",
    "\n",
    "C = [] #final result\n",
    "for i in range(len(A)):\n",
    "    for j in range(Y):\n",
    "        product = 0\n",
    "        for k in range(len(A[i])):\n",
    "            product += A[i][k] * B[k][j]\n",
    "            C.append(product)\n",
    "        \n",
    "print(C)\n",
    "\n",
    "#1B\n",
    "c_out = [[A[i][v]*B[v][j] for j in range(len(B))]for i in range(len(A))for v in range(len(A[i]))]\n",
    "print(c_out)\n",
    "\n",
    "#1C\n",
    "D = np.matmul(A,B)\n",
    "print(D)\n",
    "\n",
    "#2\n",
    "\n",
    "print(D[:2,0:2])"
   ]
  },
  {
   "cell_type": "code",
   "execution_count": 55,
   "metadata": {},
   "outputs": [
    {
     "name": "stdout",
     "output_type": "stream",
     "text": [
      "[[70. 62. 24. 16. 36.]\n",
      " [42. 36. 12. 14. 17.]\n",
      " [76. 74. 30. 18. 38.]\n",
      " [92. 76. 24. 32. 36.]]\n",
      "[[70. 62.]\n",
      " [42. 36.]]\n"
     ]
    }
   ],
   "source": [
    "D = np.matmul(A,B)\n",
    "print(D)\n",
    "\n",
    "#2\n",
    "\n",
    "print(D[:2,0:2])"
   ]
  },
  {
   "cell_type": "code",
   "execution_count": 51,
   "metadata": {},
   "outputs": [
    {
     "name": "stdout",
     "output_type": "stream",
     "text": [
      "[[ 62.  26.  42.  56.  60.]\n",
      " [ 92.  68.  80. 112. 108.]\n",
      " [ 56.  38.  51.  66.  76.]\n",
      " [ 45.  27.  48.  52.  85.]]\n"
     ]
    }
   ],
   "source": [
    "C = [] #final result\n",
    "for i in range(np.shape(A)[0]): #- i is for every row in A\n",
    "    new_row = []\n",
    "    for j in range(np.shape(B)[1]): #- j is for every col in B\n",
    "        product = 0\n",
    "        for k in range(np.shape(A)[1]): #- loop over inner dimension\n",
    "            product += A[i,k] * B[k,j]\n",
    "        new_row.append(product)    \n",
    "    C.append(new_row)\n",
    "        \n",
    "print (np.array(C))"
   ]
  },
  {
   "cell_type": "code",
   "execution_count": 45,
   "metadata": {},
   "outputs": [
    {
     "data": {
      "text/plain": [
       "3.0"
      ]
     },
     "execution_count": 45,
     "metadata": {},
     "output_type": "execute_result"
    }
   ],
   "source": [
    "A[i,k]"
   ]
  },
  {
   "cell_type": "code",
   "execution_count": 12,
   "metadata": {},
   "outputs": [
    {
     "data": {
      "text/plain": [
       "array([[10.,  1.,  0.],\n",
       "       [ 9.,  5.,  9.],\n",
       "       [ 7.,  2.,  1.],\n",
       "       [ 6.,  8.,  2.]])"
      ]
     },
     "execution_count": 12,
     "metadata": {},
     "output_type": "execute_result"
    }
   ],
   "source": [
    "# A 4 x 3\n",
    "# B 3 x 5\n",
    "\n",
    "# first element = dot product of first row in A x first column in B\n",
    "# second element = dot product of first row in A x second column in B\n",
    "\n",
    "# 1. for loop that will print rows of A\n",
    "# 2. for each loop of A, sub loop print columns of B\n",
    "# 3. dot product of row of A and column of B (ai . bj)\n"
   ]
  },
  {
   "cell_type": "code",
   "execution_count": null,
   "metadata": {},
   "outputs": [],
   "source": []
  }
 ],
 "metadata": {
  "kernelspec": {
   "display_name": "Python 3",
   "language": "python",
   "name": "python3"
  },
  "language_info": {
   "codemirror_mode": {
    "name": "ipython",
    "version": 3
   },
   "file_extension": ".py",
   "mimetype": "text/x-python",
   "name": "python",
   "nbconvert_exporter": "python",
   "pygments_lexer": "ipython3",
   "version": "3.6.5"
  }
 },
 "nbformat": 4,
 "nbformat_minor": 2
}
